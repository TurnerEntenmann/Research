{
 "cells": [
  {
   "cell_type": "code",
   "execution_count": 1,
   "metadata": {},
   "outputs": [],
   "source": [
    "import time\n",
    "import numpy as np\n",
    "from matplotlib import pyplot as plt"
   ]
  },
  {
   "cell_type": "code",
   "execution_count": 2,
   "metadata": {},
   "outputs": [
    {
     "data": {
      "text/plain": [
       "[<matplotlib.lines.Line2D at 0x237cce54130>]"
      ]
     },
     "execution_count": 2,
     "metadata": {},
     "output_type": "execute_result"
    },
    {
     "data": {
      "image/png": "[encoded data removed]",
      "text/plain": [
       "<Figure size 640x480 with 1 Axes>"
      ]
     },
     "metadata": {},
     "output_type": "display_data"
    }
   ],
   "source": [
    "# x**4 with cutoff, n in [1,1.005]\n",
    "# micrometer width\n",
    "def n(x, z):\n",
    "    if np.abs(x) <= 10**(-6):\n",
    "        val = 1 + (0.005**(1/4) * 10**6 * x)**4\n",
    "    else:\n",
    "        val = 1.005\n",
    "    return val\n",
    "\n",
    "x_list = np.arange(-3*10**(-6), 3*10**(-6), 10**(-8))\n",
    "n_list = [n(x, 0) for x in x_list]\n",
    "plt.plot(x_list, n_list)\n",
    "# plt.savefig(\"plots/n(x).pdf\")"
   ]
  },
  {
   "cell_type": "code",
   "execution_count": 3,
   "metadata": {},
   "outputs": [],
   "source": [
    "# fxn for plotting\n",
    "def get_ax(figsize=(6,4)):\n",
    "    fig, ax = plt.subplots(figsize=figsize)\n",
    "    ax.spines['right'].set_visible(False)\n",
    "    ax.spines['top'].set_visible(False)\n",
    "    return ax"
   ]
  },
  {
   "cell_type": "code",
   "execution_count": 4,
   "metadata": {},
   "outputs": [],
   "source": [
    "# Gaussian BC\n",
    "# gaussian fxn\n",
    "def gauss(x, b=0, c=1):\n",
    "    return np.exp(-(x-b)**2/(2*c**2))\n",
    "\n",
    "# E(z=0, x) = exp(-x^2/2)\n",
    "def get_BC(x_0, x_max, x_step, b=0, c=1):   \n",
    "    # list of x values\n",
    "    x_list = np.arange(x_0, x_max, x_step)\n",
    "    BC = [gauss(x, b, c) for x in x_list]\n",
    "    return BC\n",
    "\n",
    "\n",
    "# gaussian bc for diag wave\n",
    "def gauss_kx(x, kx, b=0, c=1):\n",
    "    return gauss(x, b, c) * np.exp(1j * kx * x)\n",
    "\n",
    "def get_BC_kx(x_0, x_max, x_step, kx, beam_center=0, waist=1):\n",
    "    BC = [gauss_kx(x, kx, beam_center, waist) for x in np.arange(x_0, x_max, x_step)]\n",
    "    return np.array(BC)"
   ]
  },
  {
   "cell_type": "code",
   "execution_count": 5,
   "metadata": {},
   "outputs": [],
   "source": [
    "# z_step = 10**(-10)\n",
    "# lam = 200 * 10**(-9) # meters\n",
    "# k = 2*np.pi/lam\n",
    "# waist = 0.00001\n",
    "# x_step = 10**(-6)\n",
    "# x_0 = -0.00005\n",
    "# x_max = 0.00005\n",
    "# beam_center = 0.000025\n",
    "# z_0 = 0\n",
    "# z_max = 0.00001 \n",
    "\n",
    "# #angle = np.arcsin(z_max / (x_max - x_0))\n",
    "# angle = np.pi / 4\n",
    "\n",
    "# kx = np.sin(angle) * k\n",
    "\n",
    "# BC = get_BC_kx(x_0, x_max, x_step, kx, beam_center, waist)\n",
    "\n",
    "# g = [gauss(x, beam_center, waist) for x in np.arange(x_0,x_max,x_step)]\n",
    "\n",
    "# plt.plot(np.arange(x_0,x_max,x_step), g, c='0')\n",
    "# plt.plot(np.arange(x_0,x_max,x_step), np.abs(BC), c='r', linestyle=\"-.\")"
   ]
  },
  {
   "cell_type": "code",
   "execution_count": 6,
   "metadata": {},
   "outputs": [],
   "source": [
    "# 4th order Runge-Kutta Gaussian Beam\n",
    "\n",
    "# diff EQ (1j = sqrt(-1) in python)\n",
    "# d^2E/dx^2 + 2ik dE/dz=0 -> dE/dz=-d^2E/dx^2*(1/2ik)\n",
    "# d^2E/dx^2 + 2ik dE/dz + V_eff(x)U = 0\n",
    "# -> dE/dz=-d^2E/dx^2*(1/2ik)-V_eff(x)E\n",
    "def d2Edz2(k, ddx):\n",
    "    return (-ddx)/(2*1j*k)\n",
    "\n",
    "# non-unif n\n",
    "# x**4 with cutoff, n in [1,1.005]\n",
    "# micrometer width\n",
    "def n(x, z):\n",
    "    return 1\n",
    "#     if np.abs(x) <= 10**(-6):\n",
    "#         # 0.005**(1/4) * 10**6\n",
    "#         val = 1 + (265914.79484724946 * x)**4\n",
    "#     else:\n",
    "#         val = 1.005\n",
    "#     return val\n",
    "\n",
    "# abs(V_eff * E) gets to ~10^300, then nan\n",
    "def dEdz(x, z, E, k, ddx):\n",
    "    V_eff = k * (n(x, z)**2 - 1) / 2\n",
    "    return (((-V_eff * E) - ddx/(2*k)) / 1j)\n",
    "    \n",
    "def RK4GB(waist, beam_center, x_0, x_max, x_step, z_0, z_max, z_step, k):\n",
    "    # list of zvals\n",
    "    z_list = np.arange(z_0, z_max, z_step)\n",
    "    \n",
    "    # list of boundary condition\n",
    "    BC = get_BC(x_0, x_max, x_step, b=beam_center, c=waist)\n",
    "    \n",
    "    # grid of E vals starts as just the boundary conditions\n",
    "    E_grid = [BC]\n",
    "    \n",
    "    # loop over z's\n",
    "    for i, z in enumerate(z_list):\n",
    "        # i is the z index of the grid\n",
    "        # start at initial x\n",
    "        x = x_0\n",
    "        # z slice\n",
    "        z_slice=[]\n",
    "        # 1st derivative\n",
    "        der_1 = np.gradient(E_grid[i], x_step)\n",
    "        \n",
    "        # 2nd derivative\n",
    "        der_vals = np.gradient(der_1, x_step)\n",
    "        \n",
    "        # RK\n",
    "        # loop through the 2nd derivative of the ith z slice\n",
    "        for j, dval in enumerate(der_vals):\n",
    "            # j is the x index of the slice\n",
    "            # dval is the 2nd derivative wrt x of the i-th z slice\n",
    "            # Eval = Egrid(z_index)(x_index)\n",
    "            E_val = E_grid[i][j]\n",
    "\n",
    "            k1 = z_step * dEdz(x, z, E_val, k, dval)\n",
    "            k2 = z_step * dEdz(x, z, E_val, k, dval + 0.5 * k1)\n",
    "            k3 = z_step * dEdz(x, z, E_val, k, dval + 0.5 * k2)\n",
    "            k4 = z_step * dEdz(x, z, E_val, k, dval + k3)\n",
    "            \n",
    "            z_slice.append(E_val + k1/6 + k2/3 + k3/3 + k4/6)\n",
    "            x += x_step\n",
    "        E_grid.append(z_slice)\n",
    "        # print % done\n",
    "        if i % 10 == 0:\n",
    "            frac = i/len(z_list)\n",
    "            print(str(frac*100)[:4]+\" %\", end = \"\\r\")\n",
    "    # 64 bit floats instead of 128 to help memory usage\n",
    "    return np.array(E_grid, dtype=np.complex64)"
   ]
  },
  {
   "cell_type": "code",
   "execution_count": 7,
   "metadata": {},
   "outputs": [],
   "source": [
    "def RK4GB_kx(BC, x_0, x_max, x_step, z_0, z_max, z_step, k, kx):\n",
    "    # list of zvals\n",
    "    z_list = np.arange(z_0, z_max, z_step)\n",
    "        \n",
    "    # grid of E vals starts as just the boundary conditions\n",
    "    E_grid = [BC]\n",
    "    \n",
    "    # loop over z's\n",
    "    for i, z in enumerate(z_list):\n",
    "        # i is the z index of the grid\n",
    "        # start at initial x\n",
    "        x = x_0\n",
    "        # z slice\n",
    "        z_slice=[]\n",
    "        # 1st derivative\n",
    "        der_1 = np.gradient(E_grid[i], x_step)\n",
    "        \n",
    "        # 2nd derivative\n",
    "        der_vals = np.gradient(der_1, x_step)\n",
    "        \n",
    "        # RK\n",
    "        # loop through the 2nd derivative of the ith z slice\n",
    "        for j, dval in enumerate(der_vals):\n",
    "            # j is the x index of the slice\n",
    "            # dval is the 2nd derivative wrt x of the i-th z slice\n",
    "            # Eval = Egrid(z_index)(x_index)\n",
    "            E_val = E_grid[i][j]\n",
    "\n",
    "            k1 = z_step * dEdz(x, z, E_val, k, dval)\n",
    "            k2 = z_step * dEdz(x, z, E_val, k, dval + 0.5 * k1)\n",
    "            k3 = z_step * dEdz(x, z, E_val, k, dval + 0.5 * k2)\n",
    "            k4 = z_step * dEdz(x, z, E_val, k, dval + k3)\n",
    "            \n",
    "            z_slice.append(E_val + k1/6 + k2/3 + k3/3 + k4/6)\n",
    "            x += x_step\n",
    "        E_grid.append(z_slice)\n",
    "        # print % done\n",
    "        if i % 10 == 0:\n",
    "            frac = i/len(z_list)\n",
    "            print(str(frac*100)[:4]+\" %\", end = \"\\r\")\n",
    "    # 64 bit floats instead of 128 to help memory usage\n",
    "    return np.array(E_grid, dtype=np.complex64)"
   ]
  },
  {
   "cell_type": "code",
   "execution_count": 8,
   "metadata": {},
   "outputs": [],
   "source": [
    "# # want z_max ~ 1mm, x is good\n",
    "# # angle ~ 1/100\n",
    "\n",
    "\n",
    "# # physical params\n",
    "# lam = 200 * 10**(-9) # meters\n",
    "# k = 2*np.pi/lam\n",
    "\n",
    "# # spatial params unit (m)\n",
    "# unit = 10**(-5)\n",
    "\n",
    "# # beam params\n",
    "# beam_center = 2 * unit\n",
    "# waist = unit\n",
    "\n",
    "# # spatial params\n",
    "# x_step = 10**(-6)\n",
    "# x_0 = -5 * unit\n",
    "# x_max = 5 * unit\n",
    "\n",
    "# z_step = 10**(-10)\n",
    "# z_0 = 0\n",
    "# z_max = 5 * unit\n",
    "\n",
    "# #angle = np.arcsin(z_max / (x_max - x_0))\n",
    "# angle = 1 / 20\n",
    "# kx = np.sin(angle) * k\n",
    "# kz = np.cos(angle) * k\n",
    "\n",
    "# start_time = time.time()\n",
    "\n",
    "# BC = get_BC_kx(x_0, x_max, x_step, kx, beam_center, waist)\n",
    "\n",
    "# #plt.plot(np.arange(x_0, x_max, x_step), np.abs(BC))\n",
    "\n",
    "# E_grid = RK4GB_kx(BC, x_0, x_max, x_step, z_0, z_max, z_step, kz, kx)\n",
    "\n",
    "# print(str(time.time()-start_time)[:5], \"s\")\n",
    "\n",
    "# plt.figure(figsize = (10,10))\n",
    "\n",
    "# print(sum(np.abs(E_grid[0])**2))\n",
    "# print(sum(np.abs(E_grid[-1])**2))\n",
    "\n",
    "# plt.imshow(np.abs(E_grid.T), aspect=\"auto\")\n",
    "# plt.colorbar()\n",
    "# plt.savefig(\"plots/diag_wave.pdf\")"
   ]
  },
  {
   "cell_type": "code",
   "execution_count": 9,
   "metadata": {},
   "outputs": [],
   "source": [
    "# plt.plot(np.arange(x_0, x_max, x_step), BC)\n",
    "# plt.plot(np.arange(x_0, x_max, x_step), np.abs(BC))\n",
    "# plt.savefig(\"plots/diag_wave_BC.pdf\")"
   ]
  },
  {
   "cell_type": "code",
   "execution_count": 10,
   "metadata": {},
   "outputs": [],
   "source": [
    "def dEdz_vec(E, x, k, n_sqr_minus, ddx):\n",
    "    V_eff = k * (n_sqr_minus) / 2\n",
    "    return (((-V_eff * E) - ddx/(2*k)) / 1j)\n",
    "\n",
    "def RK4GB_vec(BC, x_0, x_max, x_step, z_0, z_max, z_step, kz, n_sqr):\n",
    "    # list of zvals\n",
    "    z_list = np.arange(z_0, z_max, z_step)\n",
    "    \n",
    "    # list of xvals\n",
    "    x_list = np.arange(x_0, x_max, x_step)\n",
    "        \n",
    "    # grid of E vals starts as just the boundary conditions\n",
    "    E_grid = [BC]\n",
    "    \n",
    "    # loop over z's\n",
    "    for i in range(int((z_max - z_0) / z_step)):\n",
    "        # 1st derivative\n",
    "        der_1 = np.gradient(E_grid[i], x_step)\n",
    "        \n",
    "        # 2nd derivative\n",
    "        der_vals = np.gradient(der_1, x_step)\n",
    "        \n",
    "        k1_vec = z_step * dEdz_vec(E_grid[i], x_list, kz, n_sqr, der_vals)\n",
    "        k2_vec = z_step * dEdz_vec(E_grid[i], x_list, kz, n_sqr, der_vals + 0.5 * k1_vec)\n",
    "        k3_vec = z_step * dEdz_vec(E_grid[i], x_list, kz, n_sqr, der_vals + 0.5 * k2_vec)\n",
    "        k4_vec = z_step * dEdz_vec(E_grid[i], x_list, kz, n_sqr, der_vals + k3_vec)\n",
    "        \n",
    "        E_grid.append(E_grid[i] + k1_vec/6 + k2_vec/3 + k3_vec/3 + k4_vec/6)\n",
    "        # print % done\n",
    "        if i % 10 == 0:\n",
    "            frac = i/len(z_list)\n",
    "            print(str(frac*100)[:4]+\" %\", end = \"\\r\")\n",
    "    # 64 bit floats instead of 128 to help memory usage\n",
    "    return np.array(E_grid, dtype=np.complex64)"
   ]
  },
  {
   "cell_type": "code",
   "execution_count": 11,
   "metadata": {
    "scrolled": true
   },
   "outputs": [
    {
     "name": "stdout",
     "output_type": "stream",
     "text": [
      "234.1 s\n"
     ]
    }
   ],
   "source": [
    "# physical params\n",
    "lam = 200 * 10**(-9) # meters\n",
    "k = 2*np.pi/lam\n",
    "\n",
    "# spatial params unit (m)\n",
    "unit = 10**(-5)\n",
    "\n",
    "# beam params\n",
    "beam_center = -unit\n",
    "waist = unit / 2\n",
    "\n",
    "# spatial params\n",
    "x_step = 10**(-6)\n",
    "x_0 = -5 * unit\n",
    "x_max = 5 * unit\n",
    "\n",
    "z_step = 10**(-10)\n",
    "z_0 = 0\n",
    "z_max = 5 * unit\n",
    "\n",
    "angle = 1 / 20\n",
    "kx = np.sin(angle) * k\n",
    "kz = np.cos(angle) * k\n",
    "\n",
    "# n profile\n",
    "def n_vec_sqr(x, coef=265914.79484724946):\n",
    "    if np.abs(x) <= 10**(-6):\n",
    "        val = 1 + (coef * x)**4\n",
    "    else:\n",
    "        val = 1.005\n",
    "    return val**2 - 1\n",
    "\n",
    "x_list = np.arange(x_0, x_max, x_step)\n",
    "n_list = np.array([n_vec_sqr(x) for x in x_list])\n",
    "\n",
    "# get start time\n",
    "start_time = time.time()\n",
    "\n",
    "# make boundary condition\n",
    "BC = get_BC_kx(x_0, x_max, x_step, kx, beam_center, waist)\n",
    "\n",
    "# calculate propagation\n",
    "E_grid = RK4GB_vec(BC, x_0, x_max, x_step, z_0, z_max, z_step, kz, n_list)\n",
    "\n",
    "# show how long it took\n",
    "print(str(time.time()-start_time)[:5], \"s\")"
   ]
  },
  {
   "cell_type": "code",
   "execution_count": 13,
   "metadata": {},
   "outputs": [
    {
     "name": "stdout",
     "output_type": "stream",
     "text": [
      "Power Conservation: 100.01 %\n"
     ]
    },
    {
     "data": {
      "text/plain": [
       "<matplotlib.colorbar.Colorbar at 0x237f0c24100>"
      ]
     },
     "execution_count": 13,
     "metadata": {},
     "output_type": "execute_result"
    },
    {
     "data": {
      "image/png": "[encoded data removed]",
      "text/plain": [
       "<Figure size 700x700 with 2 Axes>"
      ]
     },
     "metadata": {},
     "output_type": "display_data"
    }
   ],
   "source": [
    "# calculate power conservation\n",
    "cons = str((sum(np.abs(E_grid[-1])**2) / sum(np.abs(E_grid[0])**2)) * 100)[:6]\n",
    "print(f\"Power Conservation: {cons} %\")\n",
    "      \n",
    "# plot\n",
    "plt.figure(figsize = (7,7))\n",
    "plt.imshow(np.abs(E_grid.T), aspect=\"auto\")\n",
    "plt.colorbar()\n",
    "#plt.savefig(\"plots/diag_wave.pdf\")"
   ]
  },
  {
   "cell_type": "code",
   "execution_count": 14,
   "metadata": {},
   "outputs": [
    {
     "name": "stdout",
     "output_type": "stream",
     "text": [
      "Power Conservation: 100.01 %\n"
     ]
    },
    {
     "data": {
      "text/plain": [
       "<matplotlib.colorbar.Colorbar at 0x237a53a96d0>"
      ]
     },
     "execution_count": 14,
     "metadata": {},
     "output_type": "execute_result"
    },
    {
     "data": {
      "image/png": "[encoded data removed]",
      "text/plain": [
       "<Figure size 700x700 with 2 Axes>"
      ]
     },
     "metadata": {},
     "output_type": "display_data"
    }
   ],
   "source": [
    "BC1 = E_grid[-1]\n",
    "E_grid = RK4GB_vec(BC1, x_0, x_max, x_step, z_0, z_max, z_step, kz, n_list)\n",
    "# calculate power conservation\n",
    "cons = str((sum(np.abs(E_grid[-1])**2) / sum(np.abs(E_grid[0])**2)) * 100)[:6]\n",
    "print(f\"Power Conservation: {cons} %\")\n",
    "      \n",
    "# plot\n",
    "plt.figure(figsize = (7,7))\n",
    "plt.imshow(np.abs(E_grid.T), aspect=\"auto\")\n",
    "plt.colorbar()"
   ]
  },
  {
   "cell_type": "code",
   "execution_count": 15,
   "metadata": {
    "scrolled": false
   },
   "outputs": [],
   "source": [
    "# z_step = 10**(-10)\n",
    "# lam = 632.8 * 10**(-9) # meters\n",
    "# k = 2*np.pi/lam\n",
    "# waist = 0.0001\n",
    "# x_step = 10**(-5)\n",
    "# x_0 = -0.0001\n",
    "# x_max = 0.0001\n",
    "# z_0 = 0\n",
    "# z_max = 0.00001 \n",
    "\n",
    "# start_time = time.time()\n",
    "\n",
    "# E_grid = np.array(RK4GB(waist, x_0, x_max, x_step, z_0, z_max, z_step, k))\n",
    "\n",
    "# plt.figure(figsize = (10,10))\n",
    "\n",
    "# # print(\"grid max:\", np.max(np.abs((E_grid))))\n",
    "# # print(\"grid min:\", np.min(np.abs(E_grid)))\n",
    "# print(sum(np.abs(E_grid[0])**2))\n",
    "# print(sum(np.abs(E_grid[-1])**2))\n",
    "# #print(\"slice 1 - slice n max diff:\", max(np.abs(E_grid[0] - E_grid[-1])))\n",
    "# print(str(time.time()-start_time)[:5], \"s\")\n",
    "\n",
    "# plt.imshow(np.real(E_grid.T), aspect=\"auto\")\n",
    "# plt.colorbar()\n",
    "# plt.savefig(\"plots/GBre_nonuniform_n.pdf\")"
   ]
  },
  {
   "cell_type": "code",
   "execution_count": 16,
   "metadata": {},
   "outputs": [],
   "source": [
    "# z_step = 10**(-10)\n",
    "# lam = 632.8 * 10**(-9) # meters\n",
    "# k = 2*np.pi/lam\n",
    "# waist = 0.0001\n",
    "# x_step = 10**(-5)\n",
    "# x_0 = -0.0001\n",
    "# x_max = 0.0001\n",
    "# z_0 = 0\n",
    "# z_max = 0.0001 \n",
    "\n",
    "# start_time = time.time()\n",
    "\n",
    "# E_grid = np.array(RK4GB(waist, x_0, x_max, x_step, z_0, z_max, z_step, k))\n",
    "\n",
    "# plt.figure(figsize = (10,10))\n",
    "\n",
    "# # print(\"grid max:\", np.max(np.abs((E_grid))))\n",
    "# # print(\"grid min:\", np.min(np.abs(E_grid)))\n",
    "# print(sum(np.abs(E_grid[0])**2))\n",
    "# print(sum(np.abs(E_grid[-1])**2))\n",
    "# #print(\"slice 1 - slice n max diff:\", max(np.abs(E_grid[0] - E_grid[-1])))\n",
    "# print(str(time.time()-start_time)[:5], \"s\")\n",
    "\n",
    "# plt.imshow(np.abs(E_grid.T)**2, aspect=\"auto\")\n",
    "# plt.colorbar()\n",
    "# plt.savefig(\"plots/GBE10_nonuniform_n.pdf\")"
   ]
  },
  {
   "cell_type": "code",
   "execution_count": 17,
   "metadata": {},
   "outputs": [],
   "source": [
    "# z_step = 10**(-10)\n",
    "# lam = 200 * 10**(-9) # meters\n",
    "# k = 2*np.pi/lam\n",
    "# waist = 0.0001\n",
    "# beam_center = 0\n",
    "# x_step = 10**(-5)\n",
    "# x_0 = -0.0001\n",
    "# x_max = 0.0001\n",
    "# z_0 = 0\n",
    "# z_max = 0.00001 \n",
    "\n",
    "# start_time = time.time()\n",
    "\n",
    "# E_grid = np.array(RK4GB(waist, beam_center, x_0, x_max, x_step, z_0, z_max, z_step, k))\n",
    "\n",
    "# #plt.figure(figsize = (10,10))\n",
    "\n",
    "# # print(\"grid max:\", np.max(np.abs((E_grid))))\n",
    "# # print(\"grid min:\", np.min(np.abs(E_grid)))\n",
    "# print(sum(np.abs(E_grid[0])**2))\n",
    "# print(sum(np.abs(E_grid[-1])**2))\n",
    "# #print(\"slice 1 - slice n max diff:\", max(np.abs(E_grid[0] - E_grid[-1])))\n",
    "# print(str(time.time()-start_time)[:5], \"s\")\n",
    "\n",
    "# plt.imshow(np.real(E_grid.T), aspect=\"auto\")\n",
    "# plt.colorbar()\n",
    "# #plt.savefig(\"plots/GBre10_nonuniform_n.pdf\")"
   ]
  },
  {
   "cell_type": "code",
   "execution_count": 18,
   "metadata": {},
   "outputs": [],
   "source": [
    "# plt.imshow(np.real(E_grid.T)**2, aspect=\"auto\")"
   ]
  },
  {
   "cell_type": "code",
   "execution_count": null,
   "metadata": {},
   "outputs": [],
   "source": []
  }
 ],
 "metadata": {
  "kernelspec": {
   "display_name": "Python 3 (ipykernel)",
   "language": "python",
   "name": "python3"
  },
  "language_info": {
   "codemirror_mode": {
    "name": "ipython",
    "version": 3
   },
   "file_extension": ".py",
   "mimetype": "text/x-python",
   "name": "python",
   "nbconvert_exporter": "python",
   "pygments_lexer": "ipython3",
   "version": "3.11.2"
  }
 },
 "nbformat": 4,
 "nbformat_minor": 4
}
