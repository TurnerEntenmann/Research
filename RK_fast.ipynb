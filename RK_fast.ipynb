{
 "cells": [
  {
   "cell_type": "code",
   "execution_count": 1,
   "id": "92362e03",
   "metadata": {},
   "outputs": [],
   "source": [
    "import time\n",
    "import numpy as np\n",
    "from matplotlib import pyplot as plt"
   ]
  },
  {
   "cell_type": "code",
   "execution_count": 21,
   "id": "c4d63298",
   "metadata": {},
   "outputs": [],
   "source": [
    "def gauss(x, b=0, c=1):\n",
    "    return np.exp(-(x-b)**2/(2*c**2))\n",
    "\n",
    "def gauss_kx(x, kx, b=0, c=1):\n",
    "    return gauss(x, b, c) * np.exp(1j * kx * x)\n",
    "\n",
    "def get_BC_kx(x_0, x_max, x_step, kx, beam_center=0, waist=1):\n",
    "    BC = [gauss_kx(x, kx, beam_center, waist) for x in np.arange(x_0, x_max, x_step)]\n",
    "    return np.array(BC)"
   ]
  },
  {
   "cell_type": "code",
   "execution_count": 4,
   "id": "fe50f3df",
   "metadata": {},
   "outputs": [],
   "source": [
    "# n profile\n",
    "def n_vec_sqr(x, coef=265914.79484724946):\n",
    "    if np.abs(x) <= 10**(-6):\n",
    "        val = 1 + (coef * x)**4\n",
    "    else:\n",
    "        val = 1.005\n",
    "    return val**2 - 1\n",
    "\n",
    "def dEdz_vec(E, x, k, n_sqr_minus, ddx):\n",
    "    V_eff = k * (n_sqr_minus) / 2\n",
    "    return (((-V_eff * E) - ddx/(2*k)) / 1j)\n",
    "\n",
    "def RK4GB_vec(BC, x_0, x_max, x_step, z_0, z_max, z_step, kz, n_sqr):\n",
    "    # list of zvals\n",
    "    z_list = np.arange(z_0, z_max, z_step)\n",
    "    \n",
    "    # list of xvals\n",
    "    x_list = np.arange(x_0, x_max, x_step)\n",
    "        \n",
    "    # grid of E vals starts as just the boundary conditions\n",
    "    E_grid = [BC]\n",
    "    \n",
    "    # loop over z's\n",
    "    for i in range(int((z_max - z_0) / z_step)):\n",
    "        # 1st derivative\n",
    "        der_1 = np.gradient(E_grid[i], x_step)\n",
    "        \n",
    "        # 2nd derivative\n",
    "        der_vals = np.gradient(der_1, x_step)\n",
    "        \n",
    "        k1_vec = z_step * dEdz_vec(E_grid[i], x_list, kz, n_sqr, der_vals)\n",
    "        k2_vec = z_step * dEdz_vec(E_grid[i], x_list, kz, n_sqr, der_vals + 0.5 * k1_vec)\n",
    "        k3_vec = z_step * dEdz_vec(E_grid[i], x_list, kz, n_sqr, der_vals + 0.5 * k2_vec)\n",
    "        k4_vec = z_step * dEdz_vec(E_grid[i], x_list, kz, n_sqr, der_vals + k3_vec)\n",
    "        \n",
    "        E_grid.append(E_grid[i] + k1_vec/6 + k2_vec/3 + k3_vec/3 + k4_vec/6)\n",
    "        # print % done\n",
    "        if i % 10 == 0:\n",
    "            frac = i/len(z_list)\n",
    "            print(str(frac*100)[:4]+\" %\", end = \"\\r\")\n",
    "    # 64 bit floats instead of 128 to help memory usage\n",
    "    return np.array(E_grid, dtype=np.complex64)"
   ]
  },
  {
   "cell_type": "code",
   "execution_count": 18,
   "id": "8aa86ef1",
   "metadata": {},
   "outputs": [],
   "source": [
    "# physical params\n",
    "lam = 200 * 10**(-9) # meters\n",
    "k = 2*np.pi/lam\n",
    "\n",
    "# spatial params unit (m)\n",
    "unit = 10**(-6)\n",
    "\n",
    "# beam params\n",
    "beam_center = -10 * unit\n",
    "waist = unit / 2\n",
    "\n",
    "# spatial params\n",
    "x_step = 10**(-7)\n",
    "x_0 = -15 * unit\n",
    "x_max = 15 * unit\n",
    "\n",
    "z_step = 10**(-10)\n",
    "z_0 = 0\n",
    "z_max = 50 * unit\n",
    "\n",
    "angle = 1 / 20\n",
    "kx = np.sin(angle) * k\n",
    "kz = np.cos(angle) * k\n",
    "\n",
    "x_list = np.arange(x_0, x_max, x_step)\n",
    "n_list = np.array([n_vec_sqr(x) for x in x_list])"
   ]
  },
  {
   "cell_type": "code",
   "execution_count": 19,
   "id": "6f66eb3d",
   "metadata": {},
   "outputs": [
    {
     "data": {
      "text/plain": [
       "[<matplotlib.lines.Line2D at 0x17accc2aaf0>]"
      ]
     },
     "execution_count": 19,
     "metadata": {},
     "output_type": "execute_result"
    },
    {
     "data": {
      "image/png": "[encoded data removed]",
      "text/plain": [
       "<Figure size 640x480 with 1 Axes>"
      ]
     },
     "metadata": {},
     "output_type": "display_data"
    }
   ],
   "source": [
    "plt.plot(x_list, n_list)"
   ]
  },
  {
   "cell_type": "code",
   "execution_count": 20,
   "id": "ebd318bb",
   "metadata": {},
   "outputs": [
    {
     "ename": "NameError",
     "evalue": "name 'gauss' is not defined",
     "output_type": "error",
     "traceback": [
      "\u001b[1;31m---------------------------------------------------------------------------\u001b[0m",
      "\u001b[1;31mNameError\u001b[0m                                 Traceback (most recent call last)",
      "Cell \u001b[1;32mIn[20], line 5\u001b[0m\n\u001b[0;32m      2\u001b[0m start_time \u001b[38;5;241m=\u001b[39m time\u001b[38;5;241m.\u001b[39mtime()\n\u001b[0;32m      4\u001b[0m \u001b[38;5;66;03m# make boundary condition\u001b[39;00m\n\u001b[1;32m----> 5\u001b[0m BC \u001b[38;5;241m=\u001b[39m \u001b[43mget_BC_kx\u001b[49m\u001b[43m(\u001b[49m\u001b[43mx_0\u001b[49m\u001b[43m,\u001b[49m\u001b[43m \u001b[49m\u001b[43mx_max\u001b[49m\u001b[43m,\u001b[49m\u001b[43m \u001b[49m\u001b[43mx_step\u001b[49m\u001b[43m,\u001b[49m\u001b[43m \u001b[49m\u001b[43mkx\u001b[49m\u001b[43m,\u001b[49m\u001b[43m \u001b[49m\u001b[43mbeam_center\u001b[49m\u001b[43m,\u001b[49m\u001b[43m \u001b[49m\u001b[43mwaist\u001b[49m\u001b[43m)\u001b[49m\n\u001b[0;32m      7\u001b[0m \u001b[38;5;66;03m# calculate propagation\u001b[39;00m\n\u001b[0;32m      8\u001b[0m E_grid \u001b[38;5;241m=\u001b[39m RK4GB_vec(BC, x_0, x_max, x_step, z_0, z_max, z_step, kz, n_list)\n",
      "Cell \u001b[1;32mIn[2], line 6\u001b[0m, in \u001b[0;36mget_BC_kx\u001b[1;34m(x_0, x_max, x_step, kx, beam_center, waist)\u001b[0m\n\u001b[0;32m      5\u001b[0m \u001b[38;5;28;01mdef\u001b[39;00m \u001b[38;5;21mget_BC_kx\u001b[39m(x_0, x_max, x_step, kx, beam_center\u001b[38;5;241m=\u001b[39m\u001b[38;5;241m0\u001b[39m, waist\u001b[38;5;241m=\u001b[39m\u001b[38;5;241m1\u001b[39m):\n\u001b[1;32m----> 6\u001b[0m     BC \u001b[38;5;241m=\u001b[39m [gauss_kx(x, kx, beam_center, waist) \u001b[38;5;28;01mfor\u001b[39;00m x \u001b[38;5;129;01min\u001b[39;00m np\u001b[38;5;241m.\u001b[39marange(x_0, x_max, x_step)]\n\u001b[0;32m      7\u001b[0m     \u001b[38;5;28;01mreturn\u001b[39;00m np\u001b[38;5;241m.\u001b[39marray(BC)\n",
      "Cell \u001b[1;32mIn[2], line 6\u001b[0m, in \u001b[0;36m<listcomp>\u001b[1;34m(.0)\u001b[0m\n\u001b[0;32m      5\u001b[0m \u001b[38;5;28;01mdef\u001b[39;00m \u001b[38;5;21mget_BC_kx\u001b[39m(x_0, x_max, x_step, kx, beam_center\u001b[38;5;241m=\u001b[39m\u001b[38;5;241m0\u001b[39m, waist\u001b[38;5;241m=\u001b[39m\u001b[38;5;241m1\u001b[39m):\n\u001b[1;32m----> 6\u001b[0m     BC \u001b[38;5;241m=\u001b[39m [\u001b[43mgauss_kx\u001b[49m\u001b[43m(\u001b[49m\u001b[43mx\u001b[49m\u001b[43m,\u001b[49m\u001b[43m \u001b[49m\u001b[43mkx\u001b[49m\u001b[43m,\u001b[49m\u001b[43m \u001b[49m\u001b[43mbeam_center\u001b[49m\u001b[43m,\u001b[49m\u001b[43m \u001b[49m\u001b[43mwaist\u001b[49m\u001b[43m)\u001b[49m \u001b[38;5;28;01mfor\u001b[39;00m x \u001b[38;5;129;01min\u001b[39;00m np\u001b[38;5;241m.\u001b[39marange(x_0, x_max, x_step)]\n\u001b[0;32m      7\u001b[0m     \u001b[38;5;28;01mreturn\u001b[39;00m np\u001b[38;5;241m.\u001b[39marray(BC)\n",
      "Cell \u001b[1;32mIn[2], line 3\u001b[0m, in \u001b[0;36mgauss_kx\u001b[1;34m(x, kx, b, c)\u001b[0m\n\u001b[0;32m      2\u001b[0m \u001b[38;5;28;01mdef\u001b[39;00m \u001b[38;5;21mgauss_kx\u001b[39m(x, kx, b\u001b[38;5;241m=\u001b[39m\u001b[38;5;241m0\u001b[39m, c\u001b[38;5;241m=\u001b[39m\u001b[38;5;241m1\u001b[39m):\n\u001b[1;32m----> 3\u001b[0m     \u001b[38;5;28;01mreturn\u001b[39;00m \u001b[43mgauss\u001b[49m(x, b, c) \u001b[38;5;241m*\u001b[39m np\u001b[38;5;241m.\u001b[39mexp(\u001b[38;5;241m1\u001b[39mj \u001b[38;5;241m*\u001b[39m kx \u001b[38;5;241m*\u001b[39m x)\n",
      "\u001b[1;31mNameError\u001b[0m: name 'gauss' is not defined"
     ]
    }
   ],
   "source": [
    "# get start time\n",
    "start_time = time.time()\n",
    "\n",
    "# make boundary condition\n",
    "BC = get_BC_kx(x_0, x_max, x_step, kx, beam_center, waist)\n",
    "\n",
    "# calculate propagation\n",
    "E_grid = RK4GB_vec(BC, x_0, x_max, x_step, z_0, z_max, z_step, kz, n_list)\n",
    "\n",
    "# show how long it took\n",
    "print(str(time.time()-start_time)[:5], \"s\")"
   ]
  },
  {
   "cell_type": "code",
   "execution_count": null,
   "id": "415731c4",
   "metadata": {},
   "outputs": [],
   "source": []
  }
 ],
 "metadata": {
  "kernelspec": {
   "display_name": "Python 3 (ipykernel)",
   "language": "python",
   "name": "python3"
  },
  "language_info": {
   "codemirror_mode": {
    "name": "ipython",
    "version": 3
   },
   "file_extension": ".py",
   "mimetype": "text/x-python",
   "name": "python",
   "nbconvert_exporter": "python",
   "pygments_lexer": "ipython3",
   "version": "3.9.13"
  }
 },
 "nbformat": 4,
 "nbformat_minor": 5
}
